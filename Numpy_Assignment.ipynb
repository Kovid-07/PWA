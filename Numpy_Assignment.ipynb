{
  "nbformat": 4,
  "nbformat_minor": 0,
  "metadata": {
    "colab": {
      "provenance": []
    },
    "kernelspec": {
      "name": "python3",
      "display_name": "Python 3"
    },
    "language_info": {
      "name": "python"
    }
  },
  "cells": [
    {
      "cell_type": "markdown",
      "source": [
        "# THEORITICAL QUESTIONS"
      ],
      "metadata": {
        "id": "5e3v4vv5U_r7"
      }
    },
    {
      "cell_type": "markdown",
      "source": [
        "**1. Explain the purpose and advantages of NumPy in scientific computing and data analysis. How does it\n",
        "enhance Python's capabilities for numerical operations?**\n",
        "\n",
        "### Purpose of NumPy\n",
        "\n",
        "NumPy is a fundamental library in Python for scientific computing and data analysis. It provides:\n",
        "\n",
        "1. **N-dimensional Arrays**: Efficient storage and manipulation of large datasets through its `ndarray` object.\n",
        "2. **Numerical Operations**: A wide range of mathematical functions for performing calculations on arrays and matrices.\n",
        "\n",
        "### Advantages of NumPy\n",
        "\n",
        "1. **Performance**:\n",
        "   - **Speed**: NumPy operations are implemented in C, making them faster than Python's native operations.\n",
        "   - **Vectorization**: Enables operations on entire arrays without explicit loops, simplifying code and enhancing speed.\n",
        "\n",
        "2. **Memory Efficiency**:\n",
        "   - Uses contiguous memory blocks and fixed data types, leading to lower memory usage compared to Python lists.\n",
        "\n",
        "3. **Convenience**:\n",
        "   - Rich functions for array manipulation, including reshaping, slicing, and broadcasting.\n",
        "\n",
        "4. **Ease of Use**:\n",
        "   - Intuitive syntax that resembles mathematical notation, making it accessible for scientists and engineers.\n",
        "\n",
        "5. **Rich Functionality**:\n",
        "   - Offers advanced mathematical functions, linear algebra routines, and random number generation.\n",
        "\n",
        "### Enhancing Python's Capabilities\n",
        "\n",
        "- **Mathematical Functions**: Adds extensive mathematical operations that can be applied directly to arrays.\n",
        "- **Broadcasting**: Allows operations on arrays of different shapes, simplifying arithmetic.\n",
        "- **Integration**: Interfaces with C and Fortran for high-performance computations.\n",
        "- **Advanced Indexing**: Provides advanced indexing and slicing options, enabling complex data manipulations.\n",
        "\n",
        "In summary, NumPy enhances Python's capabilities for numerical operations, making it a vital tool for data science, machine learning, and scientific research."
      ],
      "metadata": {
        "id": "RZZnxwZYSmn3"
      }
    },
    {
      "cell_type": "markdown",
      "source": [
        "**2. Compare and contrast np.mean() and np.average() functions in NumPy. When would you use one over the\n",
        "other?**\n",
        "\n",
        "In NumPy, both `np.mean()` and `np.average()` compute the average of elements, but they have some differences:\n",
        "\n",
        "### `np.mean()`\n",
        "- **Function**: Calculates the arithmetic mean (simple average) of an array.\n",
        "- **Weights**: Does **not** accept weights.\n",
        "- **Usage**: Use `np.mean()` when you want a simple, unweighted average of the elements.\n",
        "\n",
        "### `np.average()`\n",
        "- **Function**: Computes the weighted average if weights are provided.\n",
        "- **Weights**: Accepts an optional `weights` argument to compute a weighted mean.\n",
        "- **Usage**: Use `np.average()` when you need to calculate a weighted average, or when you have different importance for different data points.\n",
        "\n",
        "### Key Difference\n",
        "- **`np.mean()`**: Only a simple mean.\n",
        "- **`np.average()`**: Can compute a weighted mean if weights are provided; otherwise, it behaves like `np.mean()`.\n",
        "\n",
        "### When to Use:\n",
        "- Use `np.mean()` for a simple, straightforward average.\n",
        "- Use `np.average()` if you need to account for varying importance of elements with weights."
      ],
      "metadata": {
        "id": "J6MB_5cUSqRm"
      }
    },
    {
      "cell_type": "markdown",
      "source": [
        "**3. Describe the methods for reversing a NumPy array along different axes. Provide examples for 1D and 2D\n",
        "arrays.**\n",
        "\n",
        "In NumPy, you can reverse arrays along different axes using slicing or specific functions. Here are the methods for reversing a 1D and 2D array:\n",
        "\n",
        "### For 1D Array:\n",
        "You can reverse a 1D array using slicing:\n",
        "```python\n",
        "import numpy as np\n",
        "arr_1d = np.array([1, 2, 3, 4, 5])\n",
        "reversed_1d = arr_1d[::-1]\n",
        "print(reversed_1d)  # Output: [5 4 3 2 1]\n",
        "```\n",
        "\n",
        "### For 2D Array:\n",
        "You can reverse along different axes (rows or columns):\n",
        "\n",
        "1. **Reverse along rows (axis 0)**:\n",
        "   ```python\n",
        "   arr_2d = np.array([[1, 2, 3], [4, 5, 6], [7, 8, 9]])\n",
        "   reversed_rows = arr_2d[::-1, :]\n",
        "   print(reversed_rows)\n",
        "   # Output:\n",
        "   # [[7 8 9]\n",
        "   #  [4 5 6]\n",
        "   #  [1 2 3]]\n",
        "   ```\n",
        "\n",
        "2. **Reverse along columns (axis 1)**:\n",
        "   ```python\n",
        "   reversed_cols = arr_2d[:, ::-1]\n",
        "   print(reversed_cols)\n",
        "   # Output:\n",
        "   # [[3 2 1]\n",
        "   #  [6 5 4]\n",
        "   #  [9 8 7]]\n",
        "   ```\n",
        "\n",
        "### Conclusion:\n",
        "- **1D array**: Use slicing `[::-1]` to reverse.\n",
        "- **2D array**: Use slicing `[::-1, :]` to reverse rows and `[:, ::-1]` to reverse columns."
      ],
      "metadata": {
        "id": "-9yP73mqTYtm"
      }
    },
    {
      "cell_type": "markdown",
      "source": [
        "**4. How can you determine the data type of elements in a NumPy array? Discuss the importance of data types\n",
        "in memory management and performance.**\n",
        "\n",
        "### Determining Data Type of Elements in a NumPy Array:\n",
        "You can determine the data type of elements in a NumPy array using the `dtype` attribute:\n",
        "```python\n",
        "import numpy as np\n",
        "arr = np.array([1, 2, 3])\n",
        "print(arr.dtype)  # Output: int64 (or int32 depending on the system)\n",
        "```\n",
        "\n",
        "### Importance of Data Types in Memory Management and Performance:\n",
        "\n",
        "1. **Memory Management**:\n",
        "   - Different data types (e.g., `int32`, `float64`) use different amounts of memory. For example, an `int32` takes 4 bytes, while an `int64` takes 8 bytes.\n",
        "   - Choosing the appropriate data type for your array can save memory, especially when working with large datasets.\n",
        "\n",
        "2. **Performance**:\n",
        "   - Operations on smaller data types (e.g., `int32`) are faster since they require less memory and processing power compared to larger types (e.g., `int64` or `float64`).\n",
        "   - Properly selecting data types ensures optimal performance, especially in computationally intensive applications.\n",
        "\n",
        "### Conclusion:\n",
        "Using the correct data type in NumPy ensures efficient memory usage and enhances computational performance by reducing unnecessary overhead."
      ],
      "metadata": {
        "id": "_oX3pMiZTp6L"
      }
    },
    {
      "cell_type": "markdown",
      "source": [
        "**5. Define ndarrays in NumPy and explain their key features. How do they differ from standard Python lists?**\n",
        "\n",
        "### NumPy `ndarray`:\n",
        "An `ndarray` (N-dimensional array) is the core data structure in NumPy, representing a multi-dimensional, homogeneous array of fixed-size items. It can store elements of the same data type in a grid-like format (1D, 2D, or higher dimensions).\n",
        "\n",
        "### Key Features of `ndarray`:\n",
        "1. **Homogeneous**: All elements must be of the same data type (e.g., integers, floats).\n",
        "2. **Multi-dimensional**: Supports N-dimensional arrays (1D, 2D, 3D, etc.).\n",
        "3. **Efficient Memory**: Stored in contiguous memory blocks, making operations faster and more memory-efficient.\n",
        "4. **Vectorized Operations**: Supports fast, element-wise operations without explicit loops.\n",
        "5. **Broadcasting**: Allows operations on arrays of different shapes without copying data.\n",
        "6. **Built-in Functions**: Provides many mathematical, statistical, and linear algebra functions.\n",
        "\n",
        "### Differences from Python Lists:\n",
        "- **Data Type**: `ndarray` is homogeneous (same data type); Python lists are heterogeneous (different data types).\n",
        "- **Performance**: `ndarray` is faster and more memory-efficient due to contiguous memory storage and vectorization.\n",
        "- **Operations**: NumPy allows element-wise operations and broadcasting, whereas Python lists require loops.\n",
        "- **Fixed Size**: `ndarray` has a fixed size once created; Python lists can grow or shrink dynamically.\n",
        "\n",
        "### Conclusion:\n",
        "`ndarray` offers better performance and memory efficiency than Python lists, making it ideal for numerical computations and scientific tasks."
      ],
      "metadata": {
        "id": "So-tPArPTza9"
      }
    },
    {
      "cell_type": "markdown",
      "source": [
        "**6. Analyze the performance benefits of NumPy arrays over Python lists for large-scale numerical operations.**\n",
        "\n",
        "### Performance Benefits of NumPy Arrays Over Python Lists:\n",
        "\n",
        "1. **Speed**:\n",
        "   - **Vectorization**: NumPy arrays allow element-wise operations without loops, leveraging highly optimized C and Fortran code. This makes operations significantly faster compared to Python lists, where loops are required for element-wise calculations.\n",
        "   - **Avoids Overhead**: NumPy arrays reduce Python's internal overhead associated with dynamic typing and memory management.\n",
        "\n",
        "2. **Memory Efficiency**:\n",
        "   - **Fixed Data Types**: NumPy arrays store elements of a single data type in contiguous memory, minimizing memory usage. Python lists, in contrast, store references to objects, which adds memory overhead.\n",
        "   - **Smaller Footprint**: For large datasets, NumPy arrays take up much less memory than Python lists due to their compact storage structure.\n",
        "\n",
        "3. **Broadcasting**:\n",
        "   - NumPy supports broadcasting, enabling efficient operations on arrays of different shapes without needing explicit loops or copying data. This reduces both memory usage and execution time.\n",
        "\n",
        "4. **Optimized Mathematical Functions**:\n",
        "   - NumPy provides optimized functions for mathematical, statistical, and linear algebra operations, allowing faster execution than implementing these operations manually with Python lists.\n",
        "\n",
        "### Conclusion:\n",
        "NumPy arrays provide superior performance in terms of speed and memory efficiency for large-scale numerical operations compared to Python lists, making them essential for scientific computing and data analysis tasks."
      ],
      "metadata": {
        "id": "zApDz-MRT-e5"
      }
    },
    {
      "cell_type": "markdown",
      "source": [
        "**7. Compare vstack() and hstack() functions in NumPy. Provide examples demonstrating their usage and\n",
        "output**\n",
        "\n",
        "### `vstack()` vs `hstack()` in NumPy:\n",
        "\n",
        "Both `vstack()` and `hstack()` are used to stack arrays, but they differ in how they align and combine arrays.\n",
        "\n",
        "### 1. **`vstack()` (Vertical Stack)**:\n",
        "- **Purpose**: Stacks arrays **vertically** (row-wise).\n",
        "- **Usage**: Arrays are stacked on top of each other (along the vertical axis).\n",
        "- **Shape Requirement**: Arrays must have the same number of columns.\n",
        "\n",
        "**Example**:\n",
        "```python\n",
        "import numpy as np\n",
        "arr1 = np.array([1, 2, 3])\n",
        "arr2 = np.array([4, 5, 6])\n",
        "\n",
        "result = np.vstack((arr1, arr2))\n",
        "print(result)\n",
        "# Output:\n",
        "# [[1 2 3]\n",
        "#  [4 5 6]]\n",
        "```\n",
        "\n",
        "### 2. **`hstack()` (Horizontal Stack)**:\n",
        "- **Purpose**: Stacks arrays **horizontally** (column-wise).\n",
        "- **Usage**: Arrays are stacked side-by-side (along the horizontal axis).\n",
        "- **Shape Requirement**: Arrays must have the same number of rows.\n",
        "\n",
        "**Example**:\n",
        "```python\n",
        "arr1 = np.array([1, 2, 3])\n",
        "arr2 = np.array([4, 5, 6])\n",
        "\n",
        "result = np.hstack((arr1, arr2))\n",
        "print(result)\n",
        "# Output: [1 2 3 4 5 6]\n",
        "```\n",
        "\n",
        "### Comparison:\n",
        "- **`vstack()`**: Stacks arrays along rows, forming a 2D array if used with 1D arrays.\n",
        "- **`hstack()`**: Stacks arrays along columns, extending them side-by-side.\n",
        "\n",
        "### Conclusion:\n",
        "Use `vstack()` when you need to combine arrays vertically (row-wise) and `hstack()` for combining them horizontally (column-wise)."
      ],
      "metadata": {
        "id": "O-oiupGaUDWR"
      }
    },
    {
      "cell_type": "markdown",
      "source": [
        "**8. Explain the differences between fliplr() and flipud() methods in NumPy, including their effects on various\n",
        "array dimensions.**\n",
        "### `fliplr()` vs `flipud()` in NumPy:\n",
        "\n",
        "Both `fliplr()` and `flipud()` are used to reverse arrays along specific axes, but they work in different directions.\n",
        "\n",
        "### 1. **`fliplr()` (Flip Left-Right)**:\n",
        "- **Purpose**: Reverses the order of elements **horizontally** (left-to-right).\n",
        "- **Effect**: It flips the array along the second axis (columns).\n",
        "- **Usage**: Works on 2D or higher-dimensional arrays. For 2D arrays, it reverses the order of columns.\n",
        "- **Example**:\n",
        "  ```python\n",
        "  import numpy as np\n",
        "  arr = np.array([[1, 2, 3], [4, 5, 6]])\n",
        "  flipped_lr = np.fliplr(arr)\n",
        "  print(flipped_lr)\n",
        "  # Output:\n",
        "  # [[3 2 1]\n",
        "  #  [6 5 4]]\n",
        "  ```\n",
        "\n",
        "### 2. **`flipud()` (Flip Up-Down)**:\n",
        "- **Purpose**: Reverses the order of elements **vertically** (up-to-down).\n",
        "- **Effect**: It flips the array along the first axis (rows).\n",
        "- **Usage**: Works on 2D or higher-dimensional arrays. For 2D arrays, it reverses the order of rows.\n",
        "- **Example**:\n",
        "  ```python\n",
        "  flipped_ud = np.flipud(arr)\n",
        "  print(flipped_ud)\n",
        "  # Output:\n",
        "  # [[4 5 6]\n",
        "  #  [1 2 3]]\n",
        "  ```\n",
        "\n",
        "### Key Differences:\n",
        "- **`fliplr()`**: Flips the array **horizontally**, reversing columns.\n",
        "- **`flipud()`**: Flips the array **vertically**, reversing rows.\n",
        "\n",
        "### Conclusion:\n",
        "Use `fliplr()` to reverse elements horizontally and `flipud()` to reverse elements vertically, depending on how you want to manipulate the structure of your array."
      ],
      "metadata": {
        "id": "WojjZAaRUPI_"
      }
    },
    {
      "cell_type": "markdown",
      "source": [
        "**9. Discuss the functionality of the array_split() method in NumPy. How does it handle uneven splits?**\n",
        "\n",
        "### `array_split()` in NumPy:\n",
        "\n",
        "The `array_split()` function in NumPy is used to split an array into multiple sub-arrays. It works similarly to `split()`, but with one key difference—it can handle **uneven splits**.\n",
        "\n",
        "### Key Functionality:\n",
        "- **Purpose**: Splits an array into a specified number of sub-arrays.\n",
        "- **Syntax**: `np.array_split(array, sections)`\n",
        "  - `array`: The array to be split.\n",
        "  - `sections`: Number of equal or unequal sub-arrays.\n",
        "\n",
        "### Handling Uneven Splits:\n",
        "If the array cannot be split evenly, `array_split()` ensures that the remaining elements are distributed across sub-arrays, making some sub-arrays slightly larger.\n",
        "\n",
        "For example, if you try to split an array of 7 elements into 3 parts, two parts will have 3 elements, and one will have 1 element.\n",
        "\n",
        "**Example**:\n",
        "```python\n",
        "import numpy as np\n",
        "arr = np.array([1, 2, 3, 4, 5, 6, 7])\n",
        "result = np.array_split(arr, 3)\n",
        "print(result)\n",
        "# Output:\n",
        "# [array([1, 2, 3]), array([4, 5]), array([6, 7])]\n",
        "```\n",
        "\n",
        "### Conclusion:\n",
        "- **`split()`**: Requires even splits.\n",
        "- **`array_split()`**: Handles uneven splits by adjusting the size of sub-arrays, ensuring flexibility when the array size isn’t divisible by the number of sections.\n",
        "\n",
        "\n"
      ],
      "metadata": {
        "id": "PPpQKIGpUVUD"
      }
    },
    {
      "cell_type": "markdown",
      "source": [
        "**10. Explain the concepts of vectorization and broadcasting in NumPy. How do they contribute to efficient array\n",
        "operations?**\n",
        "\n",
        "### Vectorization in NumPy:\n",
        "- **Definition**: Vectorization refers to performing operations on entire arrays (or vectors) without using explicit loops. NumPy uses optimized C and Fortran code to execute these operations.\n",
        "- **Benefits**:\n",
        "  - **Faster Execution**: Eliminates Python's slow loops and reduces function call overhead.\n",
        "  - **Simpler Code**: Allows concise, readable code as array operations are applied directly to the whole array.\n",
        "\n",
        "**Example**:\n",
        "```python\n",
        "import numpy as np\n",
        "arr = np.array([1, 2, 3, 4])\n",
        "result = arr * 2  # Multiply each element by 2 without a loop\n",
        "```\n",
        "\n",
        "### Broadcasting in NumPy:\n",
        "- **Definition**: Broadcasting allows NumPy to perform operations on arrays of different shapes by \"stretching\" the smaller array to match the shape of the larger array, without copying data.\n",
        "- **Benefits**:\n",
        "  - **Memory Efficiency**: Saves memory by not requiring explicit copies of arrays.\n",
        "  - **Speed**: Enables fast element-wise operations between arrays of different shapes.\n",
        "\n",
        "**Example**:\n",
        "```python\n",
        "arr1 = np.array([1, 2, 3])\n",
        "arr2 = np.array([[1], [2], [3]])\n",
        "result = arr1 + arr2  # Broadcasting happens here\n",
        "```\n",
        "\n",
        "### Contribution to Efficiency:\n",
        "- **Vectorization**: Speeds up computations by avoiding slow Python loops.\n",
        "- **Broadcasting**: Allows efficient operations on arrays with different shapes without extra memory overhead.\n",
        "\n",
        "### Conclusion:\n",
        "Vectorization and broadcasting make NumPy highly efficient for large-scale numerical operations by leveraging optimized, low-level code and memory-efficient array manipulation."
      ],
      "metadata": {
        "id": "DYAjmpFIUtDu"
      }
    },
    {
      "cell_type": "markdown",
      "source": [
        "# PRACTICAL QUESTIONS"
      ],
      "metadata": {
        "id": "DuFUyu5YVGsw"
      }
    },
    {
      "cell_type": "markdown",
      "source": [
        "**1. Create a 3x3 NumPy array with random integers between 1 and 100. Then, interchange its rows and columns.**"
      ],
      "metadata": {
        "id": "BR8yBrjjVLGm"
      }
    },
    {
      "cell_type": "code",
      "source": [
        "import numpy as np\n",
        "\n",
        "# Create a 3x3 array with random integers between 1 and 100\n",
        "array = np.random.randint(1, 101, size=(3, 3))\n",
        "print(\"Original Array:\")\n",
        "print(array)\n",
        "\n",
        "# Interchange rows and columns (transpose the array)\n",
        "transposed_array = array.T\n",
        "print(\"\\nTransposed Array:\")\n",
        "print(transposed_array)\n"
      ],
      "metadata": {
        "colab": {
          "base_uri": "https://localhost:8080/",
          "height": 0
        },
        "id": "hvNvHXr5VSUb",
        "outputId": "eaceddc0-53be-4aba-c1c3-7d2fec828742"
      },
      "execution_count": 1,
      "outputs": [
        {
          "output_type": "stream",
          "name": "stdout",
          "text": [
            "Original Array:\n",
            "[[51 73 95]\n",
            " [70 44 95]\n",
            " [69 15 16]]\n",
            "\n",
            "Transposed Array:\n",
            "[[51 70 69]\n",
            " [73 44 15]\n",
            " [95 95 16]]\n"
          ]
        }
      ]
    },
    {
      "cell_type": "markdown",
      "source": [
        "**2. Generate a 1D NumPy array with 10 elements. Reshape it into a 2x5 array, then into a 5x2 array**"
      ],
      "metadata": {
        "id": "0bhBdiaUVhZK"
      }
    },
    {
      "cell_type": "code",
      "execution_count": 2,
      "metadata": {
        "colab": {
          "base_uri": "https://localhost:8080/",
          "height": 0
        },
        "id": "eTCEPi1ZRIq1",
        "outputId": "60057082-c930-43af-e6d2-b72faf712473"
      },
      "outputs": [
        {
          "output_type": "stream",
          "name": "stdout",
          "text": [
            "Original 1D Array:\n",
            "[0 1 2 3 4 5 6 7 8 9]\n",
            "\n",
            "Reshaped to 2x5 Array:\n",
            "[[0 1 2 3 4]\n",
            " [5 6 7 8 9]]\n",
            "\n",
            "Reshaped to 5x2 Array:\n",
            "[[0 1]\n",
            " [2 3]\n",
            " [4 5]\n",
            " [6 7]\n",
            " [8 9]]\n"
          ]
        }
      ],
      "source": [
        "import numpy as np\n",
        "\n",
        "# Generate a 1D array with 10 elements\n",
        "array_1d = np.arange(10)  # or use np.random.randint(0, 100, size=10) for random elements\n",
        "print(\"Original 1D Array:\")\n",
        "print(array_1d)\n",
        "\n",
        "# Reshape it into a 2x5 array\n",
        "array_2x5 = array_1d.reshape(2, 5)\n",
        "print(\"\\nReshaped to 2x5 Array:\")\n",
        "print(array_2x5)\n",
        "\n",
        "# Reshape it into a 5x2 array\n",
        "array_5x2 = array_1d.reshape(5, 2)\n",
        "print(\"\\nReshaped to 5x2 Array:\")\n",
        "print(array_5x2)\n"
      ]
    },
    {
      "cell_type": "markdown",
      "source": [
        "**3. Create a 4x4 NumPy array with random float values. Add a border of zeros around it, resulting in a 6x6 array**"
      ],
      "metadata": {
        "id": "3JRLBgG7V05j"
      }
    },
    {
      "cell_type": "code",
      "source": [
        "import numpy as np\n",
        "\n",
        "# Create a 4x4 array with random float values\n",
        "array_4x4 = np.random.rand(4, 4)\n",
        "print(\"Original 4x4 Array:\")\n",
        "print(array_4x4)\n",
        "\n",
        "# Add a border of zeros around the array\n",
        "array_6x6 = np.pad(array_4x4, pad_width=1, mode='constant', constant_values=0)\n",
        "print(\"\\n6x6 Array with Border of Zeros:\")\n",
        "print(array_6x6)\n"
      ],
      "metadata": {
        "colab": {
          "base_uri": "https://localhost:8080/",
          "height": 0
        },
        "id": "xQ7M1-NMVwki",
        "outputId": "a720bd6b-9f49-49b2-dd1b-5f9a362556e0"
      },
      "execution_count": 3,
      "outputs": [
        {
          "output_type": "stream",
          "name": "stdout",
          "text": [
            "Original 4x4 Array:\n",
            "[[0.40425158 0.56800549 0.9608272  0.45444091]\n",
            " [0.1990855  0.73428485 0.21454941 0.76894839]\n",
            " [0.71416221 0.52172199 0.60839645 0.53517124]\n",
            " [0.15817139 0.54941395 0.80386155 0.49076509]]\n",
            "\n",
            "6x6 Array with Border of Zeros:\n",
            "[[0.         0.         0.         0.         0.         0.        ]\n",
            " [0.         0.40425158 0.56800549 0.9608272  0.45444091 0.        ]\n",
            " [0.         0.1990855  0.73428485 0.21454941 0.76894839 0.        ]\n",
            " [0.         0.71416221 0.52172199 0.60839645 0.53517124 0.        ]\n",
            " [0.         0.15817139 0.54941395 0.80386155 0.49076509 0.        ]\n",
            " [0.         0.         0.         0.         0.         0.        ]]\n"
          ]
        }
      ]
    },
    {
      "cell_type": "markdown",
      "source": [
        "**4. Using NumPy, create an array of integers from 10 to 60 with a step of 5.**"
      ],
      "metadata": {
        "id": "9wgEqowAV7DG"
      }
    },
    {
      "cell_type": "code",
      "source": [
        "import numpy as np\n",
        "\n",
        "# Create an array of integers from 10 to 60 with a step of 5\n",
        "array = np.arange(10, 61, 5)\n",
        "print(\"Array of integers from 10 to 60 with a step of 5:\")\n",
        "print(array)\n"
      ],
      "metadata": {
        "colab": {
          "base_uri": "https://localhost:8080/",
          "height": 0
        },
        "id": "9N0Q266PV3mu",
        "outputId": "035dda46-a065-4941-d370-29284103a154"
      },
      "execution_count": 4,
      "outputs": [
        {
          "output_type": "stream",
          "name": "stdout",
          "text": [
            "Array of integers from 10 to 60 with a step of 5:\n",
            "[10 15 20 25 30 35 40 45 50 55 60]\n"
          ]
        }
      ]
    },
    {
      "cell_type": "markdown",
      "source": [
        "**5. Create a NumPy array of strings ['python', 'numpy', 'pandas']. Apply different case transformations\n",
        "(uppercase, lowercase, title case, etc.) to each element.**"
      ],
      "metadata": {
        "id": "YSG6ntScWBrG"
      }
    },
    {
      "cell_type": "code",
      "source": [
        "import numpy as np\n",
        "\n",
        "# Create a NumPy array of strings\n",
        "array = np.array(['python', 'numpy', 'pandas'])\n",
        "\n",
        "# Apply different case transformations\n",
        "upper_case = np.char.upper(array)         # Uppercase\n",
        "lower_case = np.char.lower(array)         # Lowercase\n",
        "title_case = np.char.title(array)         # Title case\n",
        "capitalize_case = np.char.capitalize(array)  # Capitalize first letter\n",
        "\n",
        "# Display the results\n",
        "print(\"Original Array:\")\n",
        "print(array)\n",
        "\n",
        "print(\"\\nUppercase:\")\n",
        "print(upper_case)\n",
        "\n",
        "print(\"\\nLowercase:\")\n",
        "print(lower_case)\n",
        "\n",
        "print(\"\\nTitle Case:\")\n",
        "print(title_case)\n",
        "\n",
        "print(\"\\nCapitalize:\")\n",
        "print(capitalize_case)\n"
      ],
      "metadata": {
        "colab": {
          "base_uri": "https://localhost:8080/",
          "height": 0
        },
        "id": "O-h4kGfmV_AG",
        "outputId": "4c8092d9-2c74-4e56-a8db-366a4ea08da9"
      },
      "execution_count": 5,
      "outputs": [
        {
          "output_type": "stream",
          "name": "stdout",
          "text": [
            "Original Array:\n",
            "['python' 'numpy' 'pandas']\n",
            "\n",
            "Uppercase:\n",
            "['PYTHON' 'NUMPY' 'PANDAS']\n",
            "\n",
            "Lowercase:\n",
            "['python' 'numpy' 'pandas']\n",
            "\n",
            "Title Case:\n",
            "['Python' 'Numpy' 'Pandas']\n",
            "\n",
            "Capitalize:\n",
            "['Python' 'Numpy' 'Pandas']\n"
          ]
        }
      ]
    },
    {
      "cell_type": "markdown",
      "source": [
        "**6. Generate a NumPy array of words. Insert a space between each character of every word in the array.**"
      ],
      "metadata": {
        "id": "O2zMoNEaWJF4"
      }
    },
    {
      "cell_type": "code",
      "source": [
        "import numpy as np\n",
        "\n",
        "# Generate a NumPy array of words\n",
        "words_array = np.array(['python', 'numpy', 'pandas'])\n",
        "\n",
        "# Insert a space between each character of every word\n",
        "spaced_words = np.char.join(' ', words_array)\n",
        "\n",
        "# Display the results\n",
        "print(\"Original Array of Words:\")\n",
        "print(words_array)\n",
        "\n",
        "print(\"\\nWords with Spaces Between Characters:\")\n",
        "print(spaced_words)\n"
      ],
      "metadata": {
        "colab": {
          "base_uri": "https://localhost:8080/",
          "height": 0
        },
        "id": "P9EKvBo2WFx8",
        "outputId": "a1464a67-9c8e-43ce-98b6-f90010849863"
      },
      "execution_count": 6,
      "outputs": [
        {
          "output_type": "stream",
          "name": "stdout",
          "text": [
            "Original Array of Words:\n",
            "['python' 'numpy' 'pandas']\n",
            "\n",
            "Words with Spaces Between Characters:\n",
            "['p y t h o n' 'n u m p y' 'p a n d a s']\n"
          ]
        }
      ]
    },
    {
      "cell_type": "markdown",
      "source": [
        "**7. Create two 2D NumPy arrays and perform element-wise addition, subtraction, multiplication, and division.**"
      ],
      "metadata": {
        "id": "omCDONEnWRpv"
      }
    },
    {
      "cell_type": "code",
      "source": [
        "import numpy as np\n",
        "\n",
        "# Create two 2D NumPy arrays\n",
        "array1 = np.array([[1, 2, 3],\n",
        "                   [4, 5, 6]])\n",
        "\n",
        "array2 = np.array([[7, 8, 9],\n",
        "                   [10, 11, 12]])\n",
        "\n",
        "# Perform element-wise addition\n",
        "addition = array1 + array2\n",
        "\n",
        "# Perform element-wise subtraction\n",
        "subtraction = array1 - array2\n",
        "\n",
        "# Perform element-wise multiplication\n",
        "multiplication = array1 * array2\n",
        "\n",
        "# Perform element-wise division\n",
        "division = array1 / array2\n",
        "\n",
        "# Display the results\n",
        "print(\"Array 1:\")\n",
        "print(array1)\n",
        "\n",
        "print(\"\\nArray 2:\")\n",
        "print(array2)\n",
        "\n",
        "print(\"\\nElement-wise Addition:\")\n",
        "print(addition)\n",
        "\n",
        "print(\"\\nElement-wise Subtraction:\")\n",
        "print(subtraction)\n",
        "\n",
        "print(\"\\nElement-wise Multiplication:\")\n",
        "print(multiplication)\n",
        "\n",
        "print(\"\\nElement-wise Division:\")\n",
        "print(division)\n"
      ],
      "metadata": {
        "colab": {
          "base_uri": "https://localhost:8080/",
          "height": 0
        },
        "id": "fCFokFadWMux",
        "outputId": "9ac00af9-ec39-4a1c-8dc8-aeef0ba2ce80"
      },
      "execution_count": 7,
      "outputs": [
        {
          "output_type": "stream",
          "name": "stdout",
          "text": [
            "Array 1:\n",
            "[[1 2 3]\n",
            " [4 5 6]]\n",
            "\n",
            "Array 2:\n",
            "[[ 7  8  9]\n",
            " [10 11 12]]\n",
            "\n",
            "Element-wise Addition:\n",
            "[[ 8 10 12]\n",
            " [14 16 18]]\n",
            "\n",
            "Element-wise Subtraction:\n",
            "[[-6 -6 -6]\n",
            " [-6 -6 -6]]\n",
            "\n",
            "Element-wise Multiplication:\n",
            "[[ 7 16 27]\n",
            " [40 55 72]]\n",
            "\n",
            "Element-wise Division:\n",
            "[[0.14285714 0.25       0.33333333]\n",
            " [0.4        0.45454545 0.5       ]]\n"
          ]
        }
      ]
    },
    {
      "cell_type": "markdown",
      "source": [
        "**8. Use NumPy to create a 5x5 identity matrix, then extract its diagonal elements.**"
      ],
      "metadata": {
        "id": "otTAPIirWpWD"
      }
    },
    {
      "cell_type": "code",
      "source": [
        "import numpy as np\n",
        "\n",
        "# Create a 5x5 identity matrix\n",
        "identity_matrix = np.eye(5)\n",
        "print(\"5x5 Identity Matrix:\")\n",
        "print(identity_matrix)\n",
        "\n",
        "# Extract the diagonal elements\n",
        "diagonal_elements = np.diagonal(identity_matrix)\n",
        "\n",
        "# Display the diagonal elements\n",
        "print(\"\\nDiagonal Elements:\")\n",
        "print(diagonal_elements)\n"
      ],
      "metadata": {
        "colab": {
          "base_uri": "https://localhost:8080/",
          "height": 0
        },
        "id": "oqsxl0E0WZhB",
        "outputId": "8e1dfb26-9442-4383-be52-35c5f895c15f"
      },
      "execution_count": 8,
      "outputs": [
        {
          "output_type": "stream",
          "name": "stdout",
          "text": [
            "5x5 Identity Matrix:\n",
            "[[1. 0. 0. 0. 0.]\n",
            " [0. 1. 0. 0. 0.]\n",
            " [0. 0. 1. 0. 0.]\n",
            " [0. 0. 0. 1. 0.]\n",
            " [0. 0. 0. 0. 1.]]\n",
            "\n",
            "Diagonal Elements:\n",
            "[1. 1. 1. 1. 1.]\n"
          ]
        }
      ]
    },
    {
      "cell_type": "markdown",
      "source": [
        "**9. Generate a NumPy array of 100 random integers between 0 and 1000. Find and display all prime numbers in\n",
        "this array.**\n"
      ],
      "metadata": {
        "id": "SJVYwvJQWt6f"
      }
    },
    {
      "cell_type": "code",
      "source": [
        "import numpy as np\n",
        "\n",
        "# Generate a NumPy array of 100 random integers between 0 and 1000\n",
        "random_integers = np.random.randint(0, 1000, size=100)\n",
        "\n",
        "# Function to check for prime numbers\n",
        "def is_prime(n):\n",
        "    if n <= 1:\n",
        "        return False\n",
        "    for i in range(2, int(n**0.5) + 1):\n",
        "        if n % i == 0:\n",
        "            return False\n",
        "    return True\n",
        "\n",
        "# Find all prime numbers in the array\n",
        "prime_numbers = [num for num in random_integers if is_prime(num)]\n",
        "\n",
        "# Display the results\n",
        "print(\"Array of Random Integers:\")\n",
        "print(random_integers)\n",
        "\n",
        "print(\"\\nPrime Numbers in the Array:\")\n",
        "print(prime_numbers)\n"
      ],
      "metadata": {
        "colab": {
          "base_uri": "https://localhost:8080/",
          "height": 0
        },
        "id": "pLqXhpzSWtG3",
        "outputId": "dd8c6913-037f-455a-85f2-f27279e199c2"
      },
      "execution_count": 9,
      "outputs": [
        {
          "output_type": "stream",
          "name": "stdout",
          "text": [
            "Array of Random Integers:\n",
            "[605 162 571 669 575 991 816 716 829 171 835 606 448 186 663  45 148 886\n",
            " 174 345 450 354 360 539 793 967  61 661  93 555 999 677 988 102  32 897\n",
            " 530 989 109 811 728 392 712 164 234 842  38 853 605 529 445 417 176 333\n",
            " 707 321 599 279 425 768   7 873 159 469 749 924 488 774 777 411 581 130\n",
            " 437 604 705 272  28 744 456 525 116 351 124 513 262 873 986 923 690 939\n",
            " 439 875 174 943 174 164 457 816  23 184]\n",
            "\n",
            "Prime Numbers in the Array:\n",
            "[571, 991, 829, 967, 61, 661, 677, 109, 811, 853, 599, 7, 439, 457, 23]\n"
          ]
        }
      ]
    },
    {
      "cell_type": "markdown",
      "source": [
        "**10. Create a NumPy array representing daily temperatures for a month. Calculate and display the weekly\n",
        "averages.**"
      ],
      "metadata": {
        "id": "R_NJX5qLW5UC"
      }
    },
    {
      "cell_type": "code",
      "source": [
        "import numpy as np\n",
        "\n",
        "# Create a NumPy array representing daily temperatures for a month (30 days)\n",
        "temperatures = np.random.uniform(15, 30, size=30)\n",
        "\n",
        "# Calculate weekly averages by splitting the array\n",
        "weekly_averages = []\n",
        "for i in range(4):\n",
        "    weekly_avg = np.mean(temperatures[i * 7: (i + 1) * 7])  # First 4 weeks\n",
        "    weekly_averages.append(weekly_avg)\n",
        "\n",
        "# Handle the last 2 days as an additional week\n",
        "last_week_avg = np.mean(temperatures[28:])  # Average of the last 2 days\n",
        "weekly_averages.append(last_week_avg)\n",
        "\n",
        "# Display the results\n",
        "print(\"Daily Temperatures for a Month:\")\n",
        "print(temperatures)\n",
        "\n",
        "print(\"\\nWeekly Averages:\")\n",
        "print(weekly_averages)\n"
      ],
      "metadata": {
        "colab": {
          "base_uri": "https://localhost:8080/",
          "height": 0
        },
        "id": "4CSa1X-PW0-v",
        "outputId": "a6be1e73-cda3-4d3b-e116-736a99138342"
      },
      "execution_count": 11,
      "outputs": [
        {
          "output_type": "stream",
          "name": "stdout",
          "text": [
            "Daily Temperatures for a Month:\n",
            "[24.05395056 15.05854526 27.64844702 20.5889216  25.97882285 19.80291118\n",
            " 21.42966231 23.81313995 21.31380547 21.52005893 18.00200158 18.54704462\n",
            " 19.68343961 29.20043633 17.47305926 21.59943883 18.83031153 21.36519008\n",
            " 22.45279382 22.80561684 29.27956308 25.20468824 29.28699075 19.28353863\n",
            " 16.89101361 27.04892363 21.2252989  21.68314012 28.41411803 17.76333622]\n",
            "\n",
            "Weekly Averages:\n",
            "[22.080180110614112, 21.72570378376157, 21.972281918853128, 22.946227696441323, 23.088727124134806]\n"
          ]
        }
      ]
    },
    {
      "cell_type": "code",
      "source": [],
      "metadata": {
        "id": "ymb4POuPW8my"
      },
      "execution_count": null,
      "outputs": []
    }
  ]
}